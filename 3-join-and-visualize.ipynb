{
 "cells": [
  {
   "cell_type": "markdown",
   "id": "0e151c8f-7fe5-40c9-a162-ba8d37d8a1b6",
   "metadata": {},
   "source": [
    "# 3. Joining & visualizing socioeconomic & vegetation data."
   ]
  },
  {
   "cell_type": "markdown",
   "id": "2acb5a87-3de0-4e5d-81a2-0cd96b4f908b",
   "metadata": {},
   "source": [
    "## Introduction"
   ]
  },
  {
   "cell_type": "markdown",
   "id": "5a5a1044-bb0a-4842-b32a-55a36eec0861",
   "metadata": {},
   "source": [
    "**Purpose:** Join the socioeconomic data (from `1-census-data-cleaning.ipynb`) and the vegetation density data (from `2-tract-vegetation.ipynb`) to identify and visualize census tract-level socioeconomic factors correlated to greenspace access."
   ]
  },
  {
   "cell_type": "markdown",
   "id": "7b76cca3-3ef9-49be-af68-5bdb0060885a",
   "metadata": {},
   "source": [
    "**Contents:** The notebook shows:\n",
    "* {contents TBD upon completing analysis}"
   ]
  },
  {
   "cell_type": "markdown",
   "id": "64c0f427-8032-47ba-b642-36ee4c638a12",
   "metadata": {},
   "source": [
    "**Conclusions:** Key conclusions & outputs are:\n",
    "* {conclusions & outputs TBD upon completion}"
   ]
  },
  {
   "cell_type": "markdown",
   "id": "c703adcc-1199-4e9f-9898-e9ad492a668e",
   "metadata": {},
   "source": [
    "## Import required libraries"
   ]
  },
  {
   "cell_type": "code",
   "execution_count": 1,
   "id": "0429f95c-81ae-405a-8822-b84328ac0e91",
   "metadata": {},
   "outputs": [],
   "source": [
    "# For manipulating tabular data\n",
    "import pandas as pd"
   ]
  },
  {
   "cell_type": "markdown",
   "id": "baf8570e-149f-4f90-84b8-18521bee4f0a",
   "metadata": {},
   "source": [
    "## Join data"
   ]
  },
  {
   "cell_type": "markdown",
   "id": "21a7a259-b3d6-4c3a-8d90-1780f4eb278f",
   "metadata": {},
   "source": [
    "Socioeconomic data is stored in the `acs2020.db` SQLite database, with `demographics`, `housing`, and `economics` tables. Vegetation density data is stored in the `vegetation.db` SQLite database in the `ndvi` table."
   ]
  },
  {
   "cell_type": "code",
   "execution_count": null,
   "id": "9ffe29fc-19d2-46fd-abae-c3728e6b3281",
   "metadata": {},
   "outputs": [],
   "source": []
  }
 ],
 "metadata": {
  "kernelspec": {
   "display_name": "socal-air-quality",
   "language": "python",
   "name": "socal-air-quality"
  },
  "language_info": {
   "codemirror_mode": {
    "name": "ipython",
    "version": 3
   },
   "file_extension": ".py",
   "mimetype": "text/x-python",
   "name": "python",
   "nbconvert_exporter": "python",
   "pygments_lexer": "ipython3",
   "version": "3.10.2"
  }
 },
 "nbformat": 4,
 "nbformat_minor": 5
}
